{
 "cells": [
  {
   "cell_type": "code",
   "execution_count": 7,
   "metadata": {},
   "outputs": [
    {
     "name": "stdin",
     "output_type": "stream",
     "text": [
      "What is your name Camille\n",
      "How old are you? 19\n"
     ]
    },
    {
     "name": "stdout",
     "output_type": "stream",
     "text": [
      "\n",
      "Hello Camille \n",
      "You will turn 29 in 10 years.\n"
     ]
    }
   ],
   "source": [
    "namePrompt = \"What is your name\"\n",
    "name = input(namePrompt)\n",
    "agePrompt = \"How old are you?\"\n",
    "age = int(input(agePrompt))\n",
    "agePlus10 = age + 10\n",
    "print(\"Hello\",name,\"\\nYou will turn\",agePlus10,\"in 10 years.\")"
   ]
  }
 ],
 "metadata": {
  "kernelspec": {
   "display_name": "Python 3",
   "language": "python",
   "name": "python3"
  },
  "language_info": {
   "codemirror_mode": {
    "name": "ipython",
    "version": 3
   },
   "file_extension": ".py",
   "mimetype": "text/x-python",
   "name": "python",
   "nbconvert_exporter": "python",
   "pygments_lexer": "ipython3",
   "version": "3.8.3"
  }
 },
 "nbformat": 4,
 "nbformat_minor": 4
}
